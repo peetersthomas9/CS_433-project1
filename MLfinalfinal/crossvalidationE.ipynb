{
 "cells": [
  {
   "cell_type": "code",
   "execution_count": 27,
   "metadata": {},
   "outputs": [],
   "source": [
    "from get_data import *\n",
    "from functions import *\n",
    "from advanced_model import *"
   ]
  },
  {
   "cell_type": "code",
   "execution_count": 28,
   "metadata": {},
   "outputs": [],
   "source": [
    "datcc0, datcc1, datcc2, datcc3, y0, y1, y2, y3, index230, index231, index232, index233=get_data5(train=True)"
   ]
  },
  {
   "cell_type": "code",
   "execution_count": 44,
   "metadata": {},
   "outputs": [],
   "source": [
    "def build_k_indices(y, k_fold, seed):\n",
    "    \"\"\"build k indices for k-fold.\"\"\"\n",
    "    num_row = y.shape[0]\n",
    "    interval = int(num_row / k_fold)\n",
    "    np.random.seed(seed)\n",
    "    indices = np.random.permutation(num_row)\n",
    "    k_indices = [indices[k * interval: (k + 1) * interval]\n",
    "                 for k in range(k_fold)]\n",
    "    return np.array(k_indices)\n",
    "    \n",
    "    \n",
    "def cross_validation(y, x, k_indices, k, gamma):\n",
    "    \"\"\"return the loss of ridge regression.\"\"\"\n",
    "    # ***************************************************\n",
    "    te_indices = k_indices[k]\n",
    "    tr_indices = k_indices[[i for i in range(len(k_indices)) if i !=k]]\n",
    "    tr_indices = tr_indices.reshape(-1)\n",
    "    \n",
    "    xtrain = x[tr_indices]\n",
    "    ytrain = y[tr_indices]\n",
    "    xtest = x[te_indices]\n",
    "    ytest = y[te_indices]\n",
    "    \n",
    "    print(xtrain.shape)\n",
    "    # ***************************************************\n",
    "    losses_tr, ws, w = gradient_descent_logit(ytrain, xtrain, initial_w, 300, gamma)\n",
    "    loss_te = compute_loss_logit(ytest ,xtest , w )\n",
    "    \n",
    "    modelPredictionscase = sigmoid(xtrain@w.T)\n",
    "    modelPredictionscase = np.where(modelPredictionscase > .50, 1, 0)\n",
    "    score_train=(modelPredictionscase == ytrain).sum()/len(ytrain)\n",
    "    \n",
    "    modelPredictionscase = sigmoid(xtest@w.T)\n",
    "    modelPredictionscase = np.where(modelPredictionscase > .50, 1, 0)\n",
    "    score_test =(modelPredictionscase == ytest).sum()/len(ytest)\n",
    "    # ***************************************************\n",
    "    return losses_tr[-1], loss_te, score_train, score_test\n",
    "\n",
    "\n",
    "def cross_validation_visualization(lambds, mse_tr, mse_te):\n",
    "    \"\"\"visualization the curves of mse_tr and mse_te.\"\"\"\n",
    "    plt.semilogx(lambds, mse_te, marker=\"o\", color='r', label='test error')\n",
    "    plt.semilogx(lambds, mse_tr, marker=\"x\", color='b', label='train error')\n",
    "\n",
    "    plt.xlabel(\"gamma\")\n",
    "    plt.ylabel(\"rmse\")\n",
    "    plt.xlim(1e-4, 10)\n",
    "    plt.title(\"cross validation\")\n",
    "    plt.legend(loc=2)\n",
    "    plt.grid(True)\n",
    "    plt.savefig(\"cross_validation {}\".format(i))\n"
   ]
  },
  {
   "cell_type": "code",
   "execution_count": 51,
   "metadata": {},
   "outputs": [
    {
     "name": "stdout",
     "output_type": "stream",
     "text": [
      "(74934, 227)\n",
      "(74934, 227)\n",
      "(74934, 227)\n",
      "(74934, 227)\n",
      "(74934, 227)\n",
      "(74934, 227)\n",
      "(74934, 227)\n",
      "(74934, 227)\n",
      "(74934, 227)\n",
      "(74934, 227)\n",
      "(74934, 227)\n",
      "(74934, 227)\n",
      "(74934, 227)\n",
      "(74934, 227)\n",
      "(74934, 227)\n",
      "(74934, 227)\n",
      "(74934, 227)\n",
      "(74934, 227)\n",
      "(74934, 227)\n",
      "(74934, 227)\n",
      "(74934, 227)\n",
      "(74934, 227)\n",
      "(74934, 227)\n",
      "(74934, 227)\n",
      "(74934, 227)\n",
      "(74934, 227)\n",
      "(74934, 227)\n",
      "(74934, 227)\n",
      "(74934, 227)\n",
      "(74934, 227)\n",
      "(74934, 227)\n",
      "(74934, 227)\n",
      "(74934, 227)\n",
      "(74934, 227)\n",
      "(74934, 227)\n",
      "(74934, 227)\n",
      "(74934, 227)\n",
      "(74934, 227)\n",
      "(74934, 227)\n",
      "(74934, 227)\n",
      "rmse_tr [0.7699408813088852, 0.7719626604745509, 0.7787886673606106, 0.792877732404516, 0.8179764859743242, 0.8402360744121494, 0.8463481196786505, 0.8477793791870178, 0.8436090426241758, 0.7909860677396109]\n",
      "rmse_te [0.7698674833853791, 0.7719292977820482, 0.7785150932820881, 0.7927276002882536, 0.8174493554327809, 0.8401293137961405, 0.8461245896388822, 0.8473156377612299, 0.8434322203539114, 0.7898951076947714]\n"
     ]
    },
    {
     "data": {
      "image/png": "[encoded data removed]",
      "text/plain": [
       "<Figure size 432x288 with 1 Axes>"
      ]
     },
     "metadata": {
      "needs_background": "light"
     },
     "output_type": "display_data"
    }
   ],
   "source": [
    "initial_w = np.zeros(datcc0.shape[1])\n",
    "\n",
    "\n",
    "seed = 907\n",
    "k_fold = 4\n",
    "gammas = np.logspace(-4,1, 10)\n",
    "# split data in k fold\n",
    "k_indices = build_k_indices(y0, k_fold, seed)\n",
    "# define lists to store the loss of training data and test data\n",
    "rmse_tr = []\n",
    "rmse_te = []\n",
    "# ***************************************************\n",
    "for gamma in gammas:\n",
    "    rmtr = np.zeros(k_fold)\n",
    "    rmte = np.zeros(k_fold)\n",
    "    for i in range(0,k_fold):\n",
    "        loss_tr, loss_te, score_train, score_test = cross_validation(y0, datcc0, k_indices, i, gamma)\n",
    "\n",
    "        rmtr[i] = score_train\n",
    "        rmte[i] = score_test\n",
    "\n",
    "\n",
    "    rmse_tr.append(rmtr.mean())\n",
    "    rmse_te.append(rmte.mean())\n",
    "    # ridge regression with a given lambda\n",
    "    # ***************************************************\n",
    "    # ***************************************************\n",
    "print('rmse_tr',rmse_tr)\n",
    "print('rmse_te',rmse_te)\n",
    "i = \"1\"\n",
    "cross_validation_visualization(gammas, rmse_tr, rmse_te)"
   ]
  },
  {
   "cell_type": "code",
   "execution_count": 50,
   "metadata": {},
   "outputs": [
    {
     "data": {
      "text/plain": [
       "array([1.00000000e-04, 3.59381366e-04, 1.29154967e-03, 4.64158883e-03,\n",
       "       1.66810054e-02, 5.99484250e-02, 2.15443469e-01, 7.74263683e-01,\n",
       "       2.78255940e+00, 1.00000000e+01])"
      ]
     },
     "execution_count": 50,
     "metadata": {},
     "output_type": "execute_result"
    }
   ],
   "source": [
    "np.logspace(-4,1, 10)"
   ]
  },
  {
   "cell_type": "code",
   "execution_count": 47,
   "metadata": {},
   "outputs": [
    {
     "name": "stdout",
     "output_type": "stream",
     "text": [
      "(58158, 279)\n"
     ]
    },
    {
     "ename": "KeyboardInterrupt",
     "evalue": "",
     "output_type": "error",
     "traceback": [
      "\u001b[1;31m---------------------------------------------------------------------------\u001b[0m",
      "\u001b[1;31mKeyboardInterrupt\u001b[0m                         Traceback (most recent call last)",
      "\u001b[1;32m<ipython-input-47-35c0e6f6b8e4>\u001b[0m in \u001b[0;36m<module>\u001b[1;34m\u001b[0m\n\u001b[0;32m     15\u001b[0m     \u001b[0mrmte\u001b[0m \u001b[1;33m=\u001b[0m \u001b[0mnp\u001b[0m\u001b[1;33m.\u001b[0m\u001b[0mzeros\u001b[0m\u001b[1;33m(\u001b[0m\u001b[0mk_fold\u001b[0m\u001b[1;33m)\u001b[0m\u001b[1;33m\u001b[0m\u001b[1;33m\u001b[0m\u001b[0m\n\u001b[0;32m     16\u001b[0m     \u001b[1;32mfor\u001b[0m \u001b[0mi\u001b[0m \u001b[1;32min\u001b[0m \u001b[0mrange\u001b[0m\u001b[1;33m(\u001b[0m\u001b[1;36m0\u001b[0m\u001b[1;33m,\u001b[0m\u001b[0mk_fold\u001b[0m\u001b[1;33m)\u001b[0m\u001b[1;33m:\u001b[0m\u001b[1;33m\u001b[0m\u001b[1;33m\u001b[0m\u001b[0m\n\u001b[1;32m---> 17\u001b[1;33m         \u001b[0mloss_tr\u001b[0m\u001b[1;33m,\u001b[0m \u001b[0mloss_te\u001b[0m\u001b[1;33m,\u001b[0m \u001b[0mscore_train\u001b[0m\u001b[1;33m,\u001b[0m \u001b[0mscore_test\u001b[0m\u001b[1;33m=\u001b[0m \u001b[0mcross_validation\u001b[0m\u001b[1;33m(\u001b[0m\u001b[0my1\u001b[0m\u001b[1;33m,\u001b[0m \u001b[0mdatcc1\u001b[0m\u001b[1;33m,\u001b[0m \u001b[0mk_indices\u001b[0m\u001b[1;33m,\u001b[0m \u001b[0mi\u001b[0m\u001b[1;33m,\u001b[0m \u001b[0mgamma\u001b[0m\u001b[1;33m)\u001b[0m\u001b[1;33m\u001b[0m\u001b[1;33m\u001b[0m\u001b[0m\n\u001b[0m\u001b[0;32m     18\u001b[0m         \u001b[0mrmtr\u001b[0m\u001b[1;33m[\u001b[0m\u001b[0mi\u001b[0m\u001b[1;33m]\u001b[0m \u001b[1;33m=\u001b[0m \u001b[0mscore_train\u001b[0m\u001b[1;33m\u001b[0m\u001b[1;33m\u001b[0m\u001b[0m\n\u001b[0;32m     19\u001b[0m         \u001b[0mrmte\u001b[0m\u001b[1;33m[\u001b[0m\u001b[0mi\u001b[0m\u001b[1;33m]\u001b[0m \u001b[1;33m=\u001b[0m \u001b[0mscore_test\u001b[0m\u001b[1;33m\u001b[0m\u001b[1;33m\u001b[0m\u001b[0m\n",
      "\u001b[1;32m<ipython-input-44-edab9c56afac>\u001b[0m in \u001b[0;36mcross_validation\u001b[1;34m(y, x, k_indices, k, gamma)\u001b[0m\n\u001b[0;32m     24\u001b[0m     \u001b[0mprint\u001b[0m\u001b[1;33m(\u001b[0m\u001b[0mxtrain\u001b[0m\u001b[1;33m.\u001b[0m\u001b[0mshape\u001b[0m\u001b[1;33m)\u001b[0m\u001b[1;33m\u001b[0m\u001b[1;33m\u001b[0m\u001b[0m\n\u001b[0;32m     25\u001b[0m     \u001b[1;31m# ***************************************************\u001b[0m\u001b[1;33m\u001b[0m\u001b[1;33m\u001b[0m\u001b[1;33m\u001b[0m\u001b[0m\n\u001b[1;32m---> 26\u001b[1;33m     \u001b[0mlosses_tr\u001b[0m\u001b[1;33m,\u001b[0m \u001b[0mws\u001b[0m\u001b[1;33m,\u001b[0m \u001b[0mw\u001b[0m \u001b[1;33m=\u001b[0m \u001b[0mgradient_descent_logit\u001b[0m\u001b[1;33m(\u001b[0m\u001b[0mytrain\u001b[0m\u001b[1;33m,\u001b[0m \u001b[0mxtrain\u001b[0m\u001b[1;33m,\u001b[0m \u001b[0minitial_w\u001b[0m\u001b[1;33m,\u001b[0m \u001b[1;36m300\u001b[0m\u001b[1;33m,\u001b[0m \u001b[0mgamma\u001b[0m\u001b[1;33m)\u001b[0m\u001b[1;33m\u001b[0m\u001b[1;33m\u001b[0m\u001b[0m\n\u001b[0m\u001b[0;32m     27\u001b[0m     \u001b[0mloss_te\u001b[0m \u001b[1;33m=\u001b[0m \u001b[0mcompute_loss_logit\u001b[0m\u001b[1;33m(\u001b[0m\u001b[0mytest\u001b[0m \u001b[1;33m,\u001b[0m\u001b[0mxtest\u001b[0m \u001b[1;33m,\u001b[0m \u001b[0mw\u001b[0m \u001b[1;33m)\u001b[0m\u001b[1;33m\u001b[0m\u001b[1;33m\u001b[0m\u001b[0m\n\u001b[0;32m     28\u001b[0m \u001b[1;33m\u001b[0m\u001b[0m\n",
      "\u001b[1;32m~\\Documents\\EPFL\\MASTER_ROBOTIC\\semestre_III\\ontestletrucdeMLpaslautretest\\implementations.py\u001b[0m in \u001b[0;36mgradient_descent_logit\u001b[1;34m(y, tx, initial_w, max_iters, gamma_init, verbose)\u001b[0m\n\u001b[0;32m     98\u001b[0m         \u001b[1;31m# ***************************************************\u001b[0m\u001b[1;33m\u001b[0m\u001b[1;33m\u001b[0m\u001b[1;33m\u001b[0m\u001b[0m\n\u001b[0;32m     99\u001b[0m         \u001b[0mgradient\u001b[0m \u001b[1;33m=\u001b[0m \u001b[0mcompute_gradient_logit\u001b[0m\u001b[1;33m(\u001b[0m\u001b[0my\u001b[0m\u001b[1;33m,\u001b[0m \u001b[0mtx\u001b[0m\u001b[1;33m,\u001b[0m \u001b[0mw\u001b[0m\u001b[1;33m)\u001b[0m\u001b[1;33m\u001b[0m\u001b[1;33m\u001b[0m\u001b[0m\n\u001b[1;32m--> 100\u001b[1;33m         \u001b[0mloss\u001b[0m \u001b[1;33m=\u001b[0m \u001b[0mcompute_loss_logit\u001b[0m\u001b[1;33m(\u001b[0m\u001b[0my\u001b[0m\u001b[1;33m,\u001b[0m \u001b[0mtx\u001b[0m\u001b[1;33m,\u001b[0m \u001b[0mw\u001b[0m\u001b[1;33m)\u001b[0m\u001b[1;33m\u001b[0m\u001b[1;33m\u001b[0m\u001b[0m\n\u001b[0m\u001b[0;32m    101\u001b[0m         \u001b[1;31m# ***************************************************\u001b[0m\u001b[1;33m\u001b[0m\u001b[1;33m\u001b[0m\u001b[1;33m\u001b[0m\u001b[0m\n\u001b[0;32m    102\u001b[0m \u001b[1;33m\u001b[0m\u001b[0m\n",
      "\u001b[1;32m~\\Documents\\EPFL\\MASTER_ROBOTIC\\semestre_III\\ontestletrucdeMLpaslautretest\\functions.py\u001b[0m in \u001b[0;36mcompute_loss_logit\u001b[1;34m(y, tx, w)\u001b[0m\n\u001b[0;32m     86\u001b[0m \u001b[1;33m\u001b[0m\u001b[0m\n\u001b[0;32m     87\u001b[0m     \u001b[0me1\u001b[0m \u001b[1;33m=\u001b[0m \u001b[1;33m(\u001b[0m\u001b[0my\u001b[0m\u001b[1;33m*\u001b[0m\u001b[0mnp\u001b[0m\u001b[1;33m.\u001b[0m\u001b[0mlog\u001b[0m\u001b[1;33m(\u001b[0m\u001b[0msigmoid\u001b[0m\u001b[1;33m(\u001b[0m\u001b[0mtx\u001b[0m \u001b[1;33m@\u001b[0m \u001b[0mw\u001b[0m\u001b[1;33m)\u001b[0m\u001b[1;33m)\u001b[0m\u001b[1;33m)\u001b[0m\u001b[1;33m\u001b[0m\u001b[1;33m\u001b[0m\u001b[0m\n\u001b[1;32m---> 88\u001b[1;33m     \u001b[0me2\u001b[0m \u001b[1;33m=\u001b[0m \u001b[1;33m(\u001b[0m\u001b[1;33m(\u001b[0m\u001b[1;36m1\u001b[0m\u001b[1;33m-\u001b[0m\u001b[0my\u001b[0m\u001b[1;33m)\u001b[0m\u001b[1;33m*\u001b[0m\u001b[0mnp\u001b[0m\u001b[1;33m.\u001b[0m\u001b[0mlog\u001b[0m\u001b[1;33m(\u001b[0m\u001b[0msigmoid\u001b[0m\u001b[1;33m(\u001b[0m\u001b[0mtx\u001b[0m \u001b[1;33m@\u001b[0m \u001b[0mw\u001b[0m\u001b[1;33m)\u001b[0m\u001b[1;33m)\u001b[0m\u001b[1;33m)\u001b[0m\u001b[1;33m\u001b[0m\u001b[1;33m\u001b[0m\u001b[0m\n\u001b[0m\u001b[0;32m     89\u001b[0m     \u001b[0mloss\u001b[0m \u001b[1;33m=\u001b[0m \u001b[1;33m(\u001b[0m\u001b[0me1\u001b[0m \u001b[1;33m+\u001b[0m \u001b[0me2\u001b[0m\u001b[1;33m)\u001b[0m\u001b[1;33m.\u001b[0m\u001b[0mmean\u001b[0m\u001b[1;33m(\u001b[0m\u001b[1;33m)\u001b[0m \u001b[1;33m/\u001b[0m \u001b[1;36m2\u001b[0m\u001b[1;33m\u001b[0m\u001b[1;33m\u001b[0m\u001b[0m\n\u001b[0;32m     90\u001b[0m \u001b[1;33m\u001b[0m\u001b[0m\n",
      "\u001b[1;31mKeyboardInterrupt\u001b[0m: "
     ]
    }
   ],
   "source": [
    "initial_w = np.zeros(datcc1.shape[1])\n",
    "\n",
    "\n",
    "seed = 907\n",
    "k_fold = 4\n",
    "gammas = np.linspace(0.001,10, 10)\n",
    "# split data in k fold\n",
    "k_indices = build_k_indices(y1, k_fold, seed)\n",
    "# define lists to store the loss of training data and test data\n",
    "rmse_tr = []\n",
    "rmse_te = []\n",
    "# ***************************************************\n",
    "for gamma in gammas:\n",
    "    rmtr = np.zeros(k_fold)\n",
    "    rmte = np.zeros(k_fold)\n",
    "    for i in range(0,k_fold):\n",
    "        loss_tr, loss_te, score_train, score_test= cross_validation(y1, datcc1, k_indices, i, gamma)\n",
    "        rmtr[i] = score_train\n",
    "        rmte[i] = score_test\n",
    "\n",
    "\n",
    "    rmse_tr.append(rmtr.mean())\n",
    "    rmse_te.append(rmte.mean())\n",
    "    # ridge regression with a given lambda\n",
    "    # ***************************************************\n",
    "    # ***************************************************\n",
    "\n",
    "i = \"2\"\n",
    "cross_validation_visualization(gammas, rmse_tr, rmse_te)\n",
    "\n",
    "initial_w = np.zeros(datcc2.shape[1])\n",
    "\n",
    "\n",
    "seed = 907\n",
    "k_fold = 4\n",
    "gammas = np.linspace(0.001,10, 10)\n",
    "# split data in k fold\n",
    "k_indices = build_k_indices(y2, k_fold, seed)\n",
    "# define lists to store the loss of training data and test data\n",
    "rmse_tr = []\n",
    "rmse_te = []\n",
    "# ***************************************************\n",
    "for gamma in gammas:\n",
    "    rmtr = np.zeros(k_fold)\n",
    "    rmte = np.zeros(k_fold)\n",
    "    for i in range(0,k_fold):\n",
    "        loss_tr, loss_te, score_train, score_test= cross_validation(y2, datcc2, k_indices, i, gamma)\n",
    "        rmtr[i] = score_train\n",
    "        rmte[i] = score_test\n",
    "\n",
    "\n",
    "    rmse_tr.append(rmtr.mean())\n",
    "    rmse_te.append(rmte.mean())\n",
    "    # ridge regression with a given lambda\n",
    "    # ***************************************************\n",
    "    # ***************************************************\n",
    "\n",
    "i = \"3\"\n",
    "\n",
    "cross_validation_visualization(gammas, rmse_tr, rmse_te)\n",
    "\n",
    "initial_w = np.zeros(datcc3.shape[1])\n",
    "\n",
    "\n",
    "seed = 907\n",
    "k_fold = 4\n",
    "gammas = np.logspace(0.001,10, 10)\n",
    "# split data in k fold\n",
    "k_indices = build_k_indices(y3, k_fold, seed)\n",
    "# define lists to store the loss of training data and test data\n",
    "rmse_tr = []\n",
    "rmse_te = []\n",
    "# ***************************************************\n",
    "for gamma in gammas:\n",
    "    rmtr = np.zeros(k_fold)\n",
    "    rmte = np.zeros(k_fold)\n",
    "    for i in range(0,k_fold):\n",
    "        loss_tr, loss_te, score_train, score_test= cross_validation(y3, datcc3, k_indices, i, gamma)\n",
    "        rmtr[i] = score_train\n",
    "        rmte[i] = score_test\n",
    "\n",
    "\n",
    "    rmse_tr.append(rmtr.mean())\n",
    "    rmse_te.append(rmte.mean())\n",
    "    # ridge regression with a given lambda\n",
    "    # ***************************************************\n",
    "    # ***************************************************\n",
    "\n",
    "i = \"4\"\n",
    "\n",
    "cross_validation_visualization(gammas, rmse_tr, rmse_te)"
   ]
  },
  {
   "cell_type": "code",
   "execution_count": null,
   "metadata": {},
   "outputs": [],
   "source": []
  }
 ],
 "metadata": {
  "kernelspec": {
   "display_name": "Python 3",
   "language": "python",
   "name": "python3"
  },
  "language_info": {
   "codemirror_mode": {
    "name": "ipython",
    "version": 3
   },
   "file_extension": ".py",
   "mimetype": "text/x-python",
   "name": "python",
   "nbconvert_exporter": "python",
   "pygments_lexer": "ipython3",
   "version": "3.8.5"
  }
 },
 "nbformat": 4,
 "nbformat_minor": 4
}
